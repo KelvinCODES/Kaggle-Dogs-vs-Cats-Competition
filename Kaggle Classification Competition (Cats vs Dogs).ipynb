{
 "cells": [
  {
   "cell_type": "markdown",
   "metadata": {},
   "source": [
    "# Kaggle classification competition (Dogs vs Cats)"
   ]
  },
  {
   "cell_type": "markdown",
   "metadata": {},
   "source": [
    "Training a CNN to classify a small subset of images in Dogs vs Cats dataset hosted on Kaggle"
   ]
  },
  {
   "cell_type": "markdown",
   "metadata": {},
   "source": [
    "## The Dogs vs Cats dataset"
   ]
  },
  {
   "cell_type": "markdown",
   "metadata": {},
   "source": [
    "We will grab the dataset from kaggle and create different folders to manage the train, validation and test sets for cats and dogs."
   ]
  },
  {
   "cell_type": "code",
   "execution_count": 45,
   "metadata": {},
   "outputs": [],
   "source": [
    "import os, shutil\n",
    "from keras import models, layers, optimizers\n",
    "from keras.preprocessing.image import ImageDataGenerator\n",
    "import matplotlib.pyplot as plt"
   ]
  },
  {
   "cell_type": "code",
   "execution_count": 19,
   "metadata": {},
   "outputs": [],
   "source": [
    "#If you want to run this code locally, change this to the path you downloaded your dataset to\n",
    "orig_dataset_path = '/Users/Kelvin/Desktop/Projects/git/CatsVsDogsCNN/original_dataset/train'\n",
    "\n",
    "target_loc = '/Users/Kelvin/Desktop/Projects/git/CatsVsDogsCNN/data'\n",
    "os.mkdir(target_loc)\n",
    "\n",
    "train_dir = os.path.join(target_loc, 'train')\n",
    "validation_dir = os.path.join(target_loc, 'validation')\n",
    "testing_dir = os.path.join(target_loc, 'testing')\n",
    "\n",
    "dirs_to_create = [train_dir, validation_dir, testing_dir]\n",
    "\n",
    "for i in range(3):\n",
    "    os.mkdir(dirs_to_create[i])\n",
    "\n",
    "categories = ['cats', 'dogs']\n",
    "\n",
    "for i in range(3):\n",
    "    for j in range(len(categories)):\n",
    "        new_dir = os.path.join(dirs_to_create[i], categories[j])\n",
    "        os.mkdir(new_dir)\n",
    "\n",
    "cat_picture_names_1_1000 = ['cat.{}.jpg'.format(i) for i in range(1000)]\n",
    "cat_picture_names_1000_1500 = ['cat.{}.jpg'.format(i) for i in range(1000, 1500)]\n",
    "cat_picture_names_1500_2000 = ['cat.{}.jpg'.format(i) for i in range(1500, 2000)]\n",
    "\n",
    "dog_picture_names_1_1000 =  ['dog.{}.jpg'.format(i) for i in range(1000)]\n",
    "dog_picture_names_1000_1500 = ['dog.{}.jpg'.format(i) for i in range(1000, 1500)]\n",
    "dog_picture_names_1500_2000 = ['dog.{}.jpg'.format(i) for i in range(1500, 2000)]\n",
    "\n",
    "for i in range(len(cat_picture_names_1_1000)):\n",
    "    src = os.path.join(orig_dataset_path, cat_picture_names_1_1000[i])\n",
    "    dst = os.path.join(train_dir, 'cats')\n",
    "    dst = os.path.join(dst, cat_picture_names_1_1000[i])\n",
    "    shutil.copyfile(src, dst)\n",
    "    \n",
    "for i in range(len(cat_picture_names_1000_1500)):\n",
    "    src = os.path.join(orig_dataset_path, cat_picture_names_1_1000[i])\n",
    "    dst = os.path.join(validation_dir, 'cats')\n",
    "    dst = os.path.join(dst, cat_picture_names_1000_1500[i])\n",
    "    shutil.copyfile(src, dst)\n",
    "    \n",
    "for i in range(len(cat_picture_names_1500_2000)):\n",
    "    src = os.path.join(orig_dataset_path, cat_picture_names_1_1000[i])\n",
    "    dst = os.path.join(testing_dir, 'cats')\n",
    "    dst = os.path.join(dst, cat_picture_names_1500_2000[i])\n",
    "    shutil.copyfile(src, dst)\n",
    "    \n",
    "for i in range(len(dog_picture_names_1_1000)):\n",
    "    src = os.path.join(orig_dataset_path, dog_picture_names_1_1000[i])\n",
    "    dst = os.path.join(train_dir, 'dogs')\n",
    "    dst = os.path.join(dst, dog_picture_names_1_1000[i])\n",
    "    shutil.copyfile(src, dst)\n",
    "    \n",
    "for i in range(len(dog_picture_names_1000_1500)):\n",
    "    src = os.path.join(orig_dataset_path, dog_picture_names_1000_1500[i])\n",
    "    dst = os.path.join(validation_dir, 'dogs')\n",
    "    dst = os.path.join(dst, dog_picture_names_1000_1500[i])\n",
    "    shutil.copyfile(src, dst)\n",
    "    \n",
    "for i in range(len(dog_picture_names_1500_2000)):\n",
    "    src = os.path.join(orig_dataset_path, dog_picture_names_1500_2000[i])\n",
    "    dst = os.path.join(testing_dir, 'dogs')\n",
    "    dst = os.path.join(dst, dog_picture_names_1500_2000[i])\n",
    "    shutil.copyfile(src, dst)"
   ]
  },
  {
   "cell_type": "markdown",
   "metadata": {},
   "source": [
    "Now we have created three separate folders, training, validation, and testing with 2000, 1000, 1000 balanced samples of cats and dogs images respectively"
   ]
  },
  {
   "cell_type": "markdown",
   "metadata": {},
   "source": [
    "Lets double check that the images are in the correct spots."
   ]
  },
  {
   "cell_type": "code",
   "execution_count": 23,
   "metadata": {},
   "outputs": [
    {
     "name": "stdout",
     "output_type": "stream",
     "text": [
      "Number of samples in train_dog: 1000\n",
      "Number of samples in train_cat: 1000\n",
      "Number of samples in validation_dog_dir: 500\n",
      "Number of samples in validation_cat_dir: 500\n",
      "Number of samples in testing_dog_dir: 500\n",
      "Number of samples in testing_cat_dir: 500\n"
     ]
    }
   ],
   "source": [
    "train_dog_dir = os.path.join(train_dir, 'dogs')\n",
    "train_cat_dir = os.path.join(train_dir, 'cats')\n",
    "\n",
    "validation_dog_dir = os.path.join(validation_dir, 'dogs')\n",
    "validation_cat_dir = os.path.join(validation_dir, 'cats')\n",
    "\n",
    "test_dog_dir = os.path.join(testing_dir, 'dogs')\n",
    "test_cat_dir =os.path.join(testing_dir, 'cats')\n",
    "\n",
    "print('Number of samples in train_dog:', len(os.listdir(train_dog_dir)))\n",
    "print('Number of samples in train_cat:', len(os.listdir(train_cat_dir)))\n",
    "\n",
    "print('Number of samples in validation_dog_dir:', len(os.listdir(validation_dog_dir)))\n",
    "print('Number of samples in validation_cat_dir:', len(os.listdir(validation_cat_dir)))\n",
    "      \n",
    "print('Number of samples in testing_dog_dir:', len(os.listdir(test_dog_dir)))\n",
    "print('Number of samples in testing_cat_dir:', len(os.listdir(test_cat_dir)))"
   ]
  },
  {
   "cell_type": "markdown",
   "metadata": {},
   "source": [
    "## Data preprocessing"
   ]
  },
  {
   "cell_type": "markdown",
   "metadata": {},
   "source": [
    "The data samples are encoded in JPEG and we need to format them into the correct format to feed the images into the neural network. Essentially, we need to perform the following:\n",
    "\n",
    "    - 1) Read the picture files\n",
    "    - 2) Decode the JPEG files into RGB grids of pixels\n",
    "    - 3) Convert into floating point tensors.\n",
    "    - 4) Rescale pixel values into [0,1] intervals"
   ]
  },
  {
   "cell_type": "code",
   "execution_count": 38,
   "metadata": {},
   "outputs": [
    {
     "name": "stdout",
     "output_type": "stream",
     "text": [
      "Found 2000 images belonging to 2 classes.\n",
      "Found 1000 images belonging to 2 classes.\n"
     ]
    }
   ],
   "source": [
    "#Rescale data in images \n",
    "train_data_gen = ImageDataGenerator(rescale = 1./255)\n",
    "test_data_gen = ImageDataGenerator(rescale = 1./255)\n",
    "\n",
    "train_generator = train_data_gen.flow_from_directory(\n",
    "    train_dir, \n",
    "    target_size = (150, 150), \n",
    "    batch_size = 20, \n",
    "    class_mode = 'binary')\n",
    "\n",
    "validation_generator = test_data_gen.flow_from_directory(\n",
    "    validation_dir,\n",
    "    target_size = (150, 150), \n",
    "    batch_size = 20, \n",
    "    class_mode = 'binary')\n",
    "\n"
   ]
  },
  {
   "cell_type": "code",
   "execution_count": 39,
   "metadata": {},
   "outputs": [
    {
     "name": "stdout",
     "output_type": "stream",
     "text": [
      "Data shape from generator:  (20, 150, 150, 3)\n",
      "label shape from generator:  (20,)\n"
     ]
    }
   ],
   "source": [
    "for data, label in train_generator:\n",
    "    print('Data shape from generator: ', data.shape)\n",
    "    print('label shape from generator: ', label.shape)\n",
    "    break"
   ]
  },
  {
   "cell_type": "markdown",
   "metadata": {},
   "source": [
    "It seems like the generator is working. It is creating batches of 20 samples of 150,150,3 with the corresponding labels."
   ]
  },
  {
   "cell_type": "markdown",
   "metadata": {},
   "source": [
    "## Model Definition"
   ]
  },
  {
   "cell_type": "code",
   "execution_count": 40,
   "metadata": {},
   "outputs": [],
   "source": [
    "model = models.Sequential()\n",
    "# By default Max pooling layers are 2x2 in size\n",
    "model.add(layers.Conv2D(32, (3,3), activation = 'relu', input_shape = (150,150,3)))\n",
    "model.add(layers.MaxPool2D((2,2)))\n",
    "model.add(layers.Conv2D(64, (3,3), activation = 'relu'))\n",
    "model.add(layers.MaxPool2D((2,2)))\n",
    "model.add(layers.Conv2D(128, (3,3), activation = 'relu'))\n",
    "model.add(layers.MaxPool2D((2,2)))\n",
    "model.add(layers.Conv2D(128, (3,3), activation = 'relu'))\n",
    "model.add(layers.MaxPool2D((2,2)))\n",
    "#Now we will define a flatten layer, followed by two densely connected layers\n",
    "model.add(layers.Flatten())\n",
    "model.add(layers.Dense(512, activation = 'relu'))\n",
    "model.add(layers.Dense(1, activation = 'sigmoid'))"
   ]
  },
  {
   "cell_type": "code",
   "execution_count": 41,
   "metadata": {},
   "outputs": [
    {
     "name": "stdout",
     "output_type": "stream",
     "text": [
      "_________________________________________________________________\n",
      "Layer (type)                 Output Shape              Param #   \n",
      "=================================================================\n",
      "conv2d_5 (Conv2D)            (None, 148, 148, 32)      896       \n",
      "_________________________________________________________________\n",
      "max_pooling2d_5 (MaxPooling2 (None, 74, 74, 32)        0         \n",
      "_________________________________________________________________\n",
      "conv2d_6 (Conv2D)            (None, 72, 72, 64)        18496     \n",
      "_________________________________________________________________\n",
      "max_pooling2d_6 (MaxPooling2 (None, 36, 36, 64)        0         \n",
      "_________________________________________________________________\n",
      "conv2d_7 (Conv2D)            (None, 34, 34, 128)       73856     \n",
      "_________________________________________________________________\n",
      "max_pooling2d_7 (MaxPooling2 (None, 17, 17, 128)       0         \n",
      "_________________________________________________________________\n",
      "conv2d_8 (Conv2D)            (None, 15, 15, 128)       147584    \n",
      "_________________________________________________________________\n",
      "max_pooling2d_8 (MaxPooling2 (None, 7, 7, 128)         0         \n",
      "_________________________________________________________________\n",
      "flatten_2 (Flatten)          (None, 6272)              0         \n",
      "_________________________________________________________________\n",
      "dense_3 (Dense)              (None, 512)               3211776   \n",
      "_________________________________________________________________\n",
      "dense_4 (Dense)              (None, 1)                 513       \n",
      "=================================================================\n",
      "Total params: 3,453,121\n",
      "Trainable params: 3,453,121\n",
      "Non-trainable params: 0\n",
      "_________________________________________________________________\n"
     ]
    }
   ],
   "source": [
    "model.summary()"
   ]
  },
  {
   "cell_type": "code",
   "execution_count": 42,
   "metadata": {},
   "outputs": [],
   "source": [
    "model.compile(optimizer = optimizers.rmsprop(lr=1e-4), loss = 'binary_crossentropy', metrics = ['acc'])"
   ]
  },
  {
   "cell_type": "code",
   "execution_count": 44,
   "metadata": {},
   "outputs": [
    {
     "name": "stdout",
     "output_type": "stream",
     "text": [
      "Epoch 1/30\n",
      "100/100 [==============================] - 154s 2s/step - loss: 0.4186 - acc: 0.8130 - val_loss: 0.4678 - val_acc: 0.7910\n",
      "Epoch 2/30\n",
      "100/100 [==============================] - 159s 2s/step - loss: 0.3921 - acc: 0.8315 - val_loss: 0.4935 - val_acc: 0.7710\n",
      "Epoch 3/30\n",
      "100/100 [==============================] - 172s 2s/step - loss: 0.3705 - acc: 0.8395 - val_loss: 0.4313 - val_acc: 0.8070\n",
      "Epoch 4/30\n",
      "100/100 [==============================] - 177s 2s/step - loss: 0.3390 - acc: 0.8535 - val_loss: 0.4206 - val_acc: 0.8040\n",
      "Epoch 5/30\n",
      "100/100 [==============================] - 162s 2s/step - loss: 0.3208 - acc: 0.8605 - val_loss: 0.4070 - val_acc: 0.8190\n",
      "Epoch 6/30\n",
      "100/100 [==============================] - 178s 2s/step - loss: 0.2991 - acc: 0.8770 - val_loss: 0.3996 - val_acc: 0.8240\n",
      "Epoch 7/30\n",
      "100/100 [==============================] - 160s 2s/step - loss: 0.2755 - acc: 0.8810 - val_loss: 0.4742 - val_acc: 0.7980\n",
      "Epoch 8/30\n",
      "100/100 [==============================] - 156s 2s/step - loss: 0.2482 - acc: 0.8990 - val_loss: 0.4179 - val_acc: 0.8320\n",
      "Epoch 9/30\n",
      "100/100 [==============================] - 161s 2s/step - loss: 0.2228 - acc: 0.9165 - val_loss: 0.4741 - val_acc: 0.8110\n",
      "Epoch 10/30\n",
      "100/100 [==============================] - 157s 2s/step - loss: 0.2082 - acc: 0.9240 - val_loss: 0.4491 - val_acc: 0.8200\n",
      "Epoch 11/30\n",
      "100/100 [==============================] - 155s 2s/step - loss: 0.1820 - acc: 0.9355 - val_loss: 0.5390 - val_acc: 0.7950\n",
      "Epoch 12/30\n",
      "100/100 [==============================] - 164s 2s/step - loss: 0.1731 - acc: 0.9330 - val_loss: 0.3414 - val_acc: 0.8740\n",
      "Epoch 13/30\n",
      "100/100 [==============================] - 157s 2s/step - loss: 0.1476 - acc: 0.9510 - val_loss: 0.3319 - val_acc: 0.8570\n",
      "Epoch 14/30\n",
      "100/100 [==============================] - 158s 2s/step - loss: 0.1263 - acc: 0.9585 - val_loss: 0.4918 - val_acc: 0.8270\n",
      "Epoch 15/30\n",
      "100/100 [==============================] - 161s 2s/step - loss: 0.1130 - acc: 0.9665 - val_loss: 0.4997 - val_acc: 0.8400\n",
      "Epoch 16/30\n",
      "100/100 [==============================] - 155s 2s/step - loss: 0.0920 - acc: 0.9705 - val_loss: 0.4718 - val_acc: 0.8570\n",
      "Epoch 17/30\n",
      "100/100 [==============================] - 153s 2s/step - loss: 0.0902 - acc: 0.9695 - val_loss: 0.5124 - val_acc: 0.8450\n",
      "Epoch 18/30\n",
      "100/100 [==============================] - 154s 2s/step - loss: 0.0732 - acc: 0.9820 - val_loss: 0.5376 - val_acc: 0.8410\n",
      "Epoch 19/30\n",
      "100/100 [==============================] - 155s 2s/step - loss: 0.0676 - acc: 0.9755 - val_loss: 0.5245 - val_acc: 0.8560\n",
      "Epoch 20/30\n",
      "100/100 [==============================] - 149s 1s/step - loss: 0.0566 - acc: 0.9825 - val_loss: 0.3685 - val_acc: 0.8960\n",
      "Epoch 21/30\n",
      "100/100 [==============================] - 163s 2s/step - loss: 0.0479 - acc: 0.9880 - val_loss: 0.5073 - val_acc: 0.8650\n",
      "Epoch 22/30\n",
      "100/100 [==============================] - 153s 2s/step - loss: 0.0411 - acc: 0.9910 - val_loss: 0.4494 - val_acc: 0.8760\n",
      "Epoch 23/30\n",
      "100/100 [==============================] - 155s 2s/step - loss: 0.0331 - acc: 0.9930 - val_loss: 0.6858 - val_acc: 0.8370\n",
      "Epoch 24/30\n",
      "100/100 [==============================] - 145s 1s/step - loss: 0.0381 - acc: 0.9900 - val_loss: 0.5296 - val_acc: 0.8680\n",
      "Epoch 25/30\n",
      "100/100 [==============================] - 145s 1s/step - loss: 0.0267 - acc: 0.9920 - val_loss: 1.1415 - val_acc: 0.7780\n",
      "Epoch 26/30\n",
      "100/100 [==============================] - 146s 1s/step - loss: 0.0276 - acc: 0.9915 - val_loss: 0.5452 - val_acc: 0.8810\n",
      "Epoch 27/30\n",
      "100/100 [==============================] - 154s 2s/step - loss: 0.0205 - acc: 0.9955 - val_loss: 0.6535 - val_acc: 0.8610\n",
      "Epoch 28/30\n",
      "100/100 [==============================] - 153s 2s/step - loss: 0.0205 - acc: 0.9935 - val_loss: 0.4849 - val_acc: 0.8990\n",
      "Epoch 29/30\n",
      "100/100 [==============================] - 217s 2s/step - loss: 0.0315 - acc: 0.9905 - val_loss: 0.8312 - val_acc: 0.8290\n",
      "Epoch 30/30\n",
      "100/100 [==============================] - 230s 2s/step - loss: 0.0145 - acc: 0.9955 - val_loss: 1.0677 - val_acc: 0.8120\n"
     ]
    }
   ],
   "source": [
    "history = model.fit_generator(train_generator, steps_per_epoch = 2000//20, epochs = 30, validation_data = validation_generator, validation_steps = 1000//20)"
   ]
  },
  {
   "cell_type": "code",
   "execution_count": 46,
   "metadata": {},
   "outputs": [
    {
     "data": {
      "text/plain": [
       "dict_keys(['val_loss', 'val_acc', 'loss', 'acc'])"
      ]
     },
     "execution_count": 46,
     "metadata": {},
     "output_type": "execute_result"
    }
   ],
   "source": [
    "history.history.keys()"
   ]
  },
  {
   "cell_type": "code",
   "execution_count": 56,
   "metadata": {},
   "outputs": [
    {
     "data": {
      "image/png": "[encoded data removed]",
      "text/plain": [
       "<matplotlib.figure.Figure at 0x121bdf6d8>"
      ]
     },
     "metadata": {},
     "output_type": "display_data"
    },
    {
     "data": {
      "image/png": "[encoded data removed]",
      "text/plain": [
       "<matplotlib.figure.Figure at 0x11d0d2588>"
      ]
     },
     "metadata": {},
     "output_type": "display_data"
    }
   ],
   "source": [
    "acc = history.history['acc']\n",
    "loss = history.history['loss']\n",
    "\n",
    "validation_acc = history.history['val_acc']\n",
    "validation_loss = history.history['val_loss']\n",
    "\n",
    "epochs = range(1, len(acc) + 1)\n",
    "\n",
    "plt.plot(epochs, acc, 'bo', label = \"Training Accuracy\")\n",
    "plt.plot(epochs, validation_acc, 'b', label = \"Validation Accuracy\")\n",
    "plt.title('Training and Validation Accuracy')\n",
    "plt.legend()\n",
    "plt.show()\n",
    "\n",
    "plt.clf()\n",
    "plt.plot(epochs, loss, 'bo', label = \"Training loss\")\n",
    "plt.plot(epochs, validation_loss, 'b', label = 'Validation loss')\n",
    "plt.title('Training and Validation Loss')\n",
    "plt.legend()\n",
    "plt.show()\n"
   ]
  },
  {
   "cell_type": "code",
   "execution_count": null,
   "metadata": {
    "collapsed": true
   },
   "outputs": [],
   "source": []
  }
 ],
 "metadata": {
  "kernelspec": {
   "display_name": "Python 3",
   "language": "python",
   "name": "python3"
  },
  "language_info": {
   "codemirror_mode": {
    "name": "ipython",
    "version": 3
   },
   "file_extension": ".py",
   "mimetype": "text/x-python",
   "name": "python",
   "nbconvert_exporter": "python",
   "pygments_lexer": "ipython3",
   "version": "3.6.3"
  }
 },
 "nbformat": 4,
 "nbformat_minor": 2
}
